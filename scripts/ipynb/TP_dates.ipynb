{
 "cells": [
  {
   "cell_type": "code",
   "execution_count": 11,
   "id": "7fddc005",
   "metadata": {},
   "outputs": [],
   "source": [
    "import numpy as np\n",
    "import pandas as pd\n",
    "import glob\n",
    "from time import sleep\n",
    "from tqdm import tqdm\n",
    "import selenium\n",
    "from selenium import webdriver\n",
    "from selenium.common.exceptions import TimeoutException, WebDriverException, NoSuchElementException\n",
    "from selenium.webdriver.support.ui import WebDriverWait\n",
    "from selenium.webdriver.common.by import By\n",
    "from time import sleep\n",
    "import os\n",
    "import sys\n",
    "import json"
   ]
  },
  {
   "cell_type": "code",
   "execution_count": 12,
   "id": "dd658655",
   "metadata": {},
   "outputs": [],
   "source": [
    "# Find all CSV files starting with \"tp_\"\n",
    "file_list = glob.glob('../../data/arts/tp_*.csv')\n",
    "\n",
    "# Create an empty list to store the DataFrames\n",
    "dfs = []\n",
    "\n",
    "# Read each CSV file and append to the list\n",
    "for file_path in file_list:\n",
    "    df = pd.read_csv(file_path)\n",
    "    dfs.append(df)\n",
    "\n",
    "# Concatenate the DataFrames\n",
    "dfs = pd.concat(dfs)"
   ]
  },
  {
   "cell_type": "code",
   "execution_count": 13,
   "id": "1c4ae0ce",
   "metadata": {},
   "outputs": [
    {
     "data": {
      "text/plain": [
       "0      https://www.tygodnikpowszechny.pl/sorry-nie-ma...\n",
       "1      https://www.tygodnikpowszechny.pl/czas-minal-1...\n",
       "2      https://www.tygodnikpowszechny.pl/komunia-tez-...\n",
       "3      https://www.tygodnikpowszechny.pl/koscol-i-pan...\n",
       "4      https://www.tygodnikpowszechny.pl/koniec-zycia...\n",
       "                             ...                        \n",
       "109    https://www.tygodnikpowszechny.pl/czy-jezus-lu...\n",
       "110    https://www.tygodnikpowszechny.pl/be-jak-bezro...\n",
       "111    https://www.tygodnikpowszechny.pl/dziela-ktore...\n",
       "112      https://www.tygodnikpowszechny.pl/kronika-20254\n",
       "113    https://www.tygodnikpowszechny.pl/ubostwo-antr...\n",
       "Name: links, Length: 319, dtype: object"
      ]
     },
     "execution_count": 13,
     "metadata": {},
     "output_type": "execute_result"
    }
   ],
   "source": [
    "dfs['links']"
   ]
  },
  {
   "cell_type": "code",
   "execution_count": 16,
   "id": "2fb7353d",
   "metadata": {},
   "outputs": [],
   "source": [
    "links=dfs['links'].tolist()"
   ]
  },
  {
   "cell_type": "code",
   "execution_count": 21,
   "id": "c7363d74",
   "metadata": {},
   "outputs": [
    {
     "name": "stderr",
     "output_type": "stream",
     "text": [
      "100%|██████████| 319/319 [18:11<00:00,  3.42s/it]\n"
     ]
    }
   ],
   "source": [
    "d = webdriver.Chrome()\n",
    "\n",
    "dates=[]\n",
    "\n",
    "for page in tqdm(links):\n",
    "    d.get(page)\n",
    "    try:\n",
    "        dates.append(d.find_element(By.XPATH, '//div[@class=\"article-heading views-fieldset\"]//span[@class=\"field-content\"]').text)\n",
    "    except:\n",
    "        dates.append(np.nan)\n",
    "    sleep(1)"
   ]
  },
  {
   "cell_type": "code",
   "execution_count": 24,
   "id": "e0e366a4",
   "metadata": {},
   "outputs": [],
   "source": [
    "dfs['added']=dates"
   ]
  },
  {
   "cell_type": "code",
   "execution_count": 26,
   "id": "9c28db8f",
   "metadata": {},
   "outputs": [],
   "source": [
    "dfs.to_csv('../../data/arts/TP_correct_dates.csv')"
   ]
  },
  {
   "cell_type": "code",
   "execution_count": 27,
   "id": "00443d54",
   "metadata": {},
   "outputs": [],
   "source": [
    "dfs.to_excel('../../data/arts/TP_correct_dates.xlsx')"
   ]
  },
  {
   "cell_type": "code",
   "execution_count": null,
   "id": "00470029",
   "metadata": {},
   "outputs": [],
   "source": []
  }
 ],
 "metadata": {
  "kernelspec": {
   "display_name": "Python 3",
   "language": "python",
   "name": "python3"
  },
  "language_info": {
   "codemirror_mode": {
    "name": "ipython",
    "version": 3
   },
   "file_extension": ".py",
   "mimetype": "text/x-python",
   "name": "python",
   "nbconvert_exporter": "python",
   "pygments_lexer": "ipython3",
   "version": "3.7.15"
  }
 },
 "nbformat": 4,
 "nbformat_minor": 5
}
