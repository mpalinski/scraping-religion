{
 "cells": [
  {
   "cell_type": "code",
   "execution_count": 1,
   "id": "c207de58",
   "metadata": {},
   "outputs": [],
   "source": [
    "import numpy as np\n",
    "import pandas as pd\n",
    "import glob\n",
    "from time import sleep\n",
    "from tqdm import tqdm\n",
    "import time\n",
    "import signal\n",
    "import selenium\n",
    "from selenium import webdriver\n",
    "from selenium.common.exceptions import TimeoutException, WebDriverException, NoSuchElementException\n",
    "from selenium.webdriver.support.ui import WebDriverWait\n",
    "from selenium.webdriver.common.by import By\n",
    "from time import sleep\n",
    "import os"
   ]
  },
  {
   "cell_type": "code",
   "execution_count": 12,
   "id": "4db3957e",
   "metadata": {},
   "outputs": [],
   "source": [
    "site=\"https://powszechswiat.pl/user\"\n",
    "query=\"kościół +wirus\""
   ]
  },
  {
   "cell_type": "code",
   "execution_count": 21,
   "id": "b30e2d27",
   "metadata": {},
   "outputs": [
    {
     "name": "stdout",
     "output_type": "stream",
     "text": [
      "Found 3 pages\n"
     ]
    },
    {
     "name": "stderr",
     "output_type": "stream",
     "text": [
      "100%|██████████| 3/3 [00:05<00:00,  1.72s/it]\n"
     ]
    }
   ],
   "source": [
    "d = webdriver.Chrome()\n",
    "\n",
    "# d.get(site)\n",
    "\n",
    "# sleep(60)\n",
    "\n",
    "# d.get('https://www.tygodnikpowszechny.pl/')\n",
    "\n",
    "# d.find_element(By.XPATH, '//div[@id=\"edit-actions\"]').click()\n",
    "\n",
    "d.get(f\"https://www.tygodnikpowszechny.pl/search/site/{query}\")\n",
    "\n",
    "pagesMax=d.find_element(By.XPATH, '//li[@class=\"pager-last last\"]/a').get_attribute('href')\n",
    "pagesMax=int(pagesMax.split('=')[-1])\n",
    "print(f'Found {pagesMax} pages')\n",
    "\n",
    "links=[]\n",
    "\n",
    "els=d.find_elements(By.XPATH, '//li[@class=\"search-result\"]//a')\n",
    "for el in els:\n",
    "    links.append(el.get_attribute('href'))\n",
    "\n",
    "for page in tqdm(range(pagesMax)):\n",
    "    site=f\"https://www.tygodnikpowszechny.pl/search/site/{query}?page={page+1}\"\n",
    "    d.get(site)\n",
    "    els=d.find_elements(By.XPATH, '//li[@class=\"search-result\"]//a')\n",
    "    for el in els:\n",
    "        links.append(el.get_attribute('href'))"
   ]
  },
  {
   "cell_type": "code",
   "execution_count": 22,
   "id": "7b46acdb",
   "metadata": {},
   "outputs": [
    {
     "data": {
      "text/plain": [
       "['https://www.tygodnikpowszechny.pl/wirus-i-wielka-tajemnica-wiary-163236',\n",
       " 'https://www.tygodnikpowszechny.pl/wirus-uderza-w-finanse-kosciola-162781',\n",
       " 'https://www.tygodnikpowszechny.pl/wirus-za-spizowa-brama-162499',\n",
       " 'https://www.tygodnikpowszechny.pl/kosciol-w-skrocie-163720',\n",
       " 'https://www.tygodnikpowszechny.pl/bylam-przy-poczatku-i-koncu-163080',\n",
       " 'https://www.tygodnikpowszechny.pl/koniec-zycia-w-iluzji-163963',\n",
       " 'https://www.tygodnikpowszechny.pl/kot-eliota-166438',\n",
       " 'https://www.tygodnikpowszechny.pl/moja-i-twoja-nadzieja-163133',\n",
       " 'https://www.tygodnikpowszechny.pl/bog-uchroni-nas-przed-zaraza-163307',\n",
       " 'https://www.tygodnikpowszechny.pl/juz-od-srody-22-kwietnia-podwojne-wydanie-tygodnika-powszechnego-na-majowke-a-w-nim-163038',\n",
       " 'https://www.tygodnikpowszechny.pl/idzie-grozne-149169',\n",
       " 'https://www.tygodnikpowszechny.pl/kosciol-postawiony-pod-sciana-16905',\n",
       " 'https://www.tygodnikpowszechny.pl/pandemia-covid19-serwis-specjalny',\n",
       " 'https://www.tygodnikpowszechny.pl/przedluzone-rekolekcje-163127',\n",
       " 'https://www.tygodnikpowszechny.pl/nie-kazda-trwoga-prowadzi-do-boga-162740',\n",
       " 'https://www.tygodnikpowszechny.pl/ksieza-bez-masek-163665',\n",
       " 'https://www.tygodnikpowszechny.pl/slowa-biskupa-bledne-i-grozne-162565',\n",
       " 'https://www.tygodnikpowszechny.pl/idzie-zaraza-24071',\n",
       " 'https://www.tygodnikpowszechny.pl/serce-papieza-165960',\n",
       " 'https://www.tygodnikpowszechny.pl/biskup-sobiepan-164592',\n",
       " 'https://www.tygodnikpowszechny.pl/kawangware-jest-wszedzie-166586',\n",
       " 'https://www.tygodnikpowszechny.pl/tylko-echa-165944',\n",
       " 'https://www.tygodnikpowszechny.pl/sztukmistrz-z-anina-162979',\n",
       " 'https://www.tygodnikpowszechny.pl/czas-na-wspolne-stanowisko-130314',\n",
       " 'https://www.tygodnikpowszechny.pl/republika-nie-tutaj-146231',\n",
       " 'https://www.tygodnikpowszechny.pl/gdzie-my-jestesmy-18807',\n",
       " 'https://www.tygodnikpowszechny.pl/zmadrzejmy-po-szkodzie-20337',\n",
       " 'https://www.tygodnikpowszechny.pl/chwala-nadmiaru-156051',\n",
       " 'https://www.tygodnikpowszechny.pl/kronika-religijna-127511',\n",
       " 'https://www.tygodnikpowszechny.pl/kronika-religijna-124128',\n",
       " 'https://www.tygodnikpowszechny.pl/rozterki-wokol-pewnej-wielkodusznosci-136086',\n",
       " 'https://www.tygodnikpowszechny.pl/zapraszamy-na-uczte-24226',\n",
       " 'https://www.tygodnikpowszechny.pl/moj-wybor-na-dzis-127628',\n",
       " 'https://www.tygodnikpowszechny.pl/wiezniowie-sytuacji-130560',\n",
       " 'https://www.tygodnikpowszechny.pl/wiezniowie-sytuacji-130566',\n",
       " 'https://www.tygodnikpowszechny.pl/zyc-mowa-na-umor-140833',\n",
       " 'https://www.tygodnikpowszechny.pl/niedokonczona-budowla-136691',\n",
       " 'https://www.tygodnikpowszechny.pl/ewangelia-sprzeciwu-142728',\n",
       " 'https://www.tygodnikpowszechny.pl/glosy-po-smierci-jerzego-turowicza-135190']"
      ]
     },
     "execution_count": 22,
     "metadata": {},
     "output_type": "execute_result"
    }
   ],
   "source": [
    "for link in links:\n",
    "    mjio"
   ]
  },
  {
   "cell_type": "code",
   "execution_count": 15,
   "id": "a6f9ec39",
   "metadata": {},
   "outputs": [
    {
     "data": {
      "text/plain": [
       "[]"
      ]
     },
     "execution_count": 15,
     "metadata": {},
     "output_type": "execute_result"
    }
   ],
   "source": [
    "els"
   ]
  },
  {
   "cell_type": "code",
   "execution_count": null,
   "id": "3a2cc5c9",
   "metadata": {},
   "outputs": [],
   "source": []
  }
 ],
 "metadata": {
  "kernelspec": {
   "display_name": "Python 3",
   "language": "python",
   "name": "python3"
  },
  "language_info": {
   "codemirror_mode": {
    "name": "ipython",
    "version": 3
   },
   "file_extension": ".py",
   "mimetype": "text/x-python",
   "name": "python",
   "nbconvert_exporter": "python",
   "pygments_lexer": "ipython3",
   "version": "3.7.15"
  }
 },
 "nbformat": 4,
 "nbformat_minor": 5
}
