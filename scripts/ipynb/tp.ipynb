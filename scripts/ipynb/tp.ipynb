{
 "cells": [
  {
   "cell_type": "code",
   "execution_count": 33,
   "id": "352c65dc",
   "metadata": {},
   "outputs": [],
   "source": [
    "import numpy as np\n",
    "import pandas as pd\n",
    "import glob\n",
    "from time import sleep\n",
    "from tqdm import tqdm\n",
    "import time\n",
    "import signal\n",
    "import selenium\n",
    "from selenium import webdriver\n",
    "from selenium.common.exceptions import TimeoutException, WebDriverException, NoSuchElementException\n",
    "from selenium.webdriver.support.ui import WebDriverWait\n",
    "from selenium.webdriver.common.by import By\n",
    "from time import sleep\n",
    "import os\n",
    "import pickle\n",
    "import json"
   ]
  },
  {
   "cell_type": "code",
   "execution_count": 22,
   "id": "03eddec3",
   "metadata": {},
   "outputs": [],
   "source": [
    "site=\"https://powszechswiat.pl/user\"\n",
    "query=\"kościół +wirus\""
   ]
  },
  {
   "cell_type": "code",
   "execution_count": 29,
   "id": "9b04a1d4",
   "metadata": {},
   "outputs": [],
   "source": [
    "def save_cookie(d, path):\n",
    "    with open(path, 'wb') as filehandler:\n",
    "        pickle.dump(d.get_cookies(), filehandler)"
   ]
  },
  {
   "cell_type": "code",
   "execution_count": 34,
   "id": "b95b7e36",
   "metadata": {},
   "outputs": [],
   "source": [
    "with open(\"cookies.json\", 'w') as filehandler:\n",
    "    json.dump(d.get_cookies(), filehandler)"
   ]
  },
  {
   "cell_type": "code",
   "execution_count": 31,
   "id": "ac7a3652",
   "metadata": {},
   "outputs": [
    {
     "name": "stdout",
     "output_type": "stream",
     "text": [
      "Found 3 pages\n"
     ]
    },
    {
     "name": "stderr",
     "output_type": "stream",
     "text": [
      "100%|██████████| 3/3 [00:06<00:00,  2.09s/it]\n"
     ]
    }
   ],
   "source": [
    "d = webdriver.Chrome()\n",
    "\n",
    "d.get(site)\n",
    "\n",
    "\n",
    "\n",
    "sleep(60)\n",
    "\n",
    "save_cookie(d, 'cookie.pickle')\n",
    "# d.find_element(By.XPATH, '//div[@id=\"edit-actions\"]').click()\n",
    "\n",
    "d.get(f\"https://www.tygodnikpowszechny.pl/search/site/{query}\")\n",
    "\n",
    "pagesMax=d.find_element(By.XPATH, '//li[@class=\"pager-last last\"]/a').get_attribute('href')\n",
    "pagesMax=int(pagesMax.split('=')[-1])\n",
    "print(f'Found {pagesMax} pages')\n",
    "\n",
    "links=[]\n",
    "\n",
    "els=d.find_elements(By.XPATH, '//li[@class=\"search-result\"]//a')\n",
    "for el in els:\n",
    "    links.append(el.get_attribute('href'))\n",
    "\n",
    "for page in tqdm(range(pagesMax)):\n",
    "    site=f\"https://www.tygodnikpowszechny.pl/search/site/{query}?page={page+1}\"\n",
    "    d.get(site)\n",
    "    els=d.find_elements(By.XPATH, '//li[@class=\"search-result\"]//a')\n",
    "    for el in els:\n",
    "        links.append(el.get_attribute('href'))"
   ]
  },
  {
   "cell_type": "code",
   "execution_count": 36,
   "id": "5e8c02a3",
   "metadata": {},
   "outputs": [],
   "source": [
    "def load_cookie(d, path):\n",
    "    with open(path, 'r') as cookiesfile:\n",
    "        cookies = json.load(cookiesfile)\n",
    "    for cookie in cookies:\n",
    "        d.add_cookie(cookie)"
   ]
  },
  {
   "cell_type": "code",
   "execution_count": 41,
   "id": "e4435763",
   "metadata": {},
   "outputs": [
    {
     "name": "stderr",
     "output_type": "stream",
     "text": [
      "Getting articles: 100%|██████████| 5/5 [00:16<00:00,  3.29s/it]"
     ]
    },
    {
     "name": "stdout",
     "output_type": "stream",
     "text": [
      "WebDriverException, link:  https://www.tygodnikpowszechny.pl/kosciol-w-skrocie-163720\n",
      "WebDriverException, link:  https://www.tygodnikpowszechny.pl/bylam-przy-poczatku-i-koncu-163080\n"
     ]
    },
    {
     "name": "stderr",
     "output_type": "stream",
     "text": [
      "\n"
     ]
    }
   ],
   "source": [
    "d = webdriver.Chrome()\n",
    "\n",
    "titles=[]\n",
    "leads=[]\n",
    "txts=[]\n",
    "auths=[]\n",
    "added=[]\n",
    "\n",
    "for link in tqdm(links[:5], desc='Getting articles'):    \n",
    "    try:\n",
    "        d.get(link)\n",
    "        load_cookie(d,\"cookies.json\")\n",
    "    except WebDriverException:\n",
    "        print('WebDriverException, link: ', link)\n",
    "        continue\n",
    "    try:\n",
    "        titles.append(d.find_element(By.XPATH, '//h1[@class=\"field-content\"]').text)\n",
    "    except:\n",
    "        titles.append(np.nan)\n",
    "    try:\n",
    "        leads.append(d.find_element(By.XPATH, '//div[@class=\"views-field views-field-field-summary\"]/div[@class=\"field-content\"]').text)\n",
    "    except:\n",
    "        leads.append(np.nan)\n",
    "    try:\n",
    "        txts.append(d.find_element(By.XPATH, '//div[@class=\"views-field views-field-body\"]/div[@class=\"field-content\"]').text)\n",
    "    except:\n",
    "        txts.append(np.nan)\n",
    "    try:\n",
    "        auths.append(d.find_element(By.XPATH, '//div[@class=\"field-content views-field-name\"]').text)\n",
    "    except:\n",
    "        auths.append(np.nan)\n",
    "    try:\n",
    "        added.append(d.find_element(By.XPATH, '//span[@class=\"field-content\"]').text)\n",
    "    except:\n",
    "        added.append(np.nan)\n",
    "\n",
    "    sleep(2)\n",
    "\n",
    "# articles to df\n",
    "# df=pd.DataFrame({'title':titles, 'leads':leads, 'txt':txts, 'auth':auths, 'added':added, 'links':links[:2]})\n",
    "# df.to_csv(f'data/arts/tp_{query}.csv', index=False)\n",
    "# df.to_excel(f'data/arts/tp_{query}.xlsx', index=False)\n"
   ]
  },
  {
   "cell_type": "code",
   "execution_count": 15,
   "id": "b89ecd04",
   "metadata": {},
   "outputs": [],
   "source": []
  },
  {
   "cell_type": "code",
   "execution_count": 16,
   "id": "65c4e03a",
   "metadata": {},
   "outputs": [
    {
     "data": {
      "text/html": [
       "<div>\n",
       "<style scoped>\n",
       "    .dataframe tbody tr th:only-of-type {\n",
       "        vertical-align: middle;\n",
       "    }\n",
       "\n",
       "    .dataframe tbody tr th {\n",
       "        vertical-align: top;\n",
       "    }\n",
       "\n",
       "    .dataframe thead th {\n",
       "        text-align: right;\n",
       "    }\n",
       "</style>\n",
       "<table border=\"1\" class=\"dataframe\">\n",
       "  <thead>\n",
       "    <tr style=\"text-align: right;\">\n",
       "      <th></th>\n",
       "      <th>title</th>\n",
       "      <th>leads</th>\n",
       "      <th>txt</th>\n",
       "      <th>auth</th>\n",
       "      <th>added</th>\n",
       "      <th>links</th>\n",
       "    </tr>\n",
       "  </thead>\n",
       "  <tbody>\n",
       "    <tr>\n",
       "      <th>0</th>\n",
       "      <td>WIRUS I WIELKA TAJEMNICA WIARY</td>\n",
       "      <td>Epidemia przerwała tradycyjny sposób celebracj...</td>\n",
       "      <td>Dzieci ubrane na biało zmierzają do parafialny...</td>\n",
       "      <td>PIOTR SIKORA</td>\n",
       "      <td>04.05.2020</td>\n",
       "      <td>https://www.tygodnikpowszechny.pl/wirus-i-wiel...</td>\n",
       "    </tr>\n",
       "    <tr>\n",
       "      <th>1</th>\n",
       "      <td>WIRUS UDERZA W FINANSE KOŚCIOŁA</td>\n",
       "      <td>Powodowana pandemią nieobecność ludzi na niedz...</td>\n",
       "      <td>Skąd czerpać teraz środki na utrzymanie budynk...</td>\n",
       "      <td>ARTUR SPORNIAK</td>\n",
       "      <td>23.03.2020</td>\n",
       "      <td>https://www.tygodnikpowszechny.pl/wirus-uderza...</td>\n",
       "    </tr>\n",
       "  </tbody>\n",
       "</table>\n",
       "</div>"
      ],
      "text/plain": [
       "                             title  \\\n",
       "0   WIRUS I WIELKA TAJEMNICA WIARY   \n",
       "1  WIRUS UDERZA W FINANSE KOŚCIOŁA   \n",
       "\n",
       "                                               leads  \\\n",
       "0  Epidemia przerwała tradycyjny sposób celebracj...   \n",
       "1  Powodowana pandemią nieobecność ludzi na niedz...   \n",
       "\n",
       "                                                 txt            auth  \\\n",
       "0  Dzieci ubrane na biało zmierzają do parafialny...    PIOTR SIKORA   \n",
       "1  Skąd czerpać teraz środki na utrzymanie budynk...  ARTUR SPORNIAK   \n",
       "\n",
       "        added                                              links  \n",
       "0  04.05.2020  https://www.tygodnikpowszechny.pl/wirus-i-wiel...  \n",
       "1  23.03.2020  https://www.tygodnikpowszechny.pl/wirus-uderza...  "
      ]
     },
     "execution_count": 16,
     "metadata": {},
     "output_type": "execute_result"
    }
   ],
   "source": [
    "df"
   ]
  },
  {
   "cell_type": "code",
   "execution_count": 10,
   "id": "06e682c6",
   "metadata": {},
   "outputs": [
    {
     "data": {
      "text/plain": [
       "'Dzieci ubrane na biało zmierzają do parafialnych kościołów. Chłopcy w garniturach albo – coraz częściej – dziwnych kostiumach: jakby liturgiczna alba, długa jak koszula, do tego spodnie; dziewczynki – w sukniach księżniczek, jakby do ślubu. Wielkie styropianowe chleby i winne grona na skraju kościelnych prezbiteriów. W domach weselnych i restauracjach przyjęcia, których głównymi bohaterami są dziesięciolatkowie. Przy drogach reklamy zestawów komputerowych z nieco eucharystyczną estetyką.\\nRozczarowanie\\nWrosły już te obrazy w polski pejzaż majowy, ale w tym roku, z powodu epidemii COVID-19, ich nie ma. Już od marca, gdy tylko szkoły zostały zamknięte, a liczba uczestników celebracji liturgicznych radykalnie ograniczona, kurie diecezjalne zasypywane były pytaniami, co w tym roku będzie z pierwszokomunijnymi uroczystościami. Wobec niejasnego stanowiska rządu co do tego,...'"
      ]
     },
     "execution_count": 10,
     "metadata": {},
     "output_type": "execute_result"
    }
   ],
   "source": [
    "df['txt'][0]"
   ]
  },
  {
   "cell_type": "code",
   "execution_count": null,
   "id": "ea4710e2",
   "metadata": {},
   "outputs": [],
   "source": []
  }
 ],
 "metadata": {
  "kernelspec": {
   "display_name": "Python 3",
   "language": "python",
   "name": "python3"
  },
  "language_info": {
   "codemirror_mode": {
    "name": "ipython",
    "version": 3
   },
   "file_extension": ".py",
   "mimetype": "text/x-python",
   "name": "python",
   "nbconvert_exporter": "python",
   "pygments_lexer": "ipython3",
   "version": "3.7.15"
  }
 },
 "nbformat": 4,
 "nbformat_minor": 5
}
