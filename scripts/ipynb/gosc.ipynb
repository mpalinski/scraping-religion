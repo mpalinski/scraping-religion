{
 "cells": [
  {
   "cell_type": "code",
   "execution_count": 5,
   "id": "f3222aaa",
   "metadata": {},
   "outputs": [],
   "source": [
    "import numpy as np\n",
    "import pandas as pd\n",
    "import glob\n",
    "from time import sleep\n",
    "from tqdm import tqdm\n",
    "import time\n",
    "import signal\n",
    "import selenium\n",
    "from selenium import webdriver\n",
    "from selenium.common.exceptions import TimeoutException, WebDriverException, NoSuchElementException\n",
    "from selenium.webdriver.support.ui import WebDriverWait\n",
    "from selenium.webdriver.common.by import By\n",
    "from time import sleep\n",
    "import os"
   ]
  },
  {
   "cell_type": "code",
   "execution_count": 17,
   "id": "8091e799",
   "metadata": {},
   "outputs": [],
   "source": [
    "query='protestanci'\n",
    "\n",
    "site=f'https://www.gosc.pl/wyszukaj/wyrazy?q={query}'"
   ]
  },
  {
   "cell_type": "code",
   "execution_count": 11,
   "id": "eb46470f",
   "metadata": {},
   "outputs": [],
   "source": [
    "d = webdriver.Chrome()\n",
    "\n",
    "d.get(site)\n",
    "\n",
    "pagesMax=d.find_elements(By.XPATH, '//a[@class=\"pgr_arrow\"]')[-1].get_attribute('href')"
   ]
  },
  {
   "cell_type": "code",
   "execution_count": 19,
   "id": "09fd7057",
   "metadata": {},
   "outputs": [
    {
     "name": "stdout",
     "output_type": "stream",
     "text": [
      "62\n"
     ]
    }
   ],
   "source": [
    "pagesMax=int(pagesMax.split('/')[-1].split('?')[0])\n",
    "print(pagesMax)"
   ]
  },
  {
   "cell_type": "code",
   "execution_count": 32,
   "id": "0101c0d1",
   "metadata": {},
   "outputs": [],
   "source": [
    "artLinks=[]\n",
    "\n",
    "d = webdriver.Chrome()\n",
    "\n",
    "for page in range(pagesMax)[:2]:\n",
    "    site=f'https://www.gosc.pl/wyszukaj/wyrazy/{page+1}?q={query}'\n",
    "    d.get(site)\n",
    "    urls=d.find_elements(By.XPATH, '//h1[@class=\"src_auth_h\"]/a')\n",
    "    for url in urls:\n",
    "        artLinks.append(url.get_attribute('href'))\n",
    "    sleep(2)"
   ]
  },
  {
   "cell_type": "code",
   "execution_count": 48,
   "id": "58581788",
   "metadata": {},
   "outputs": [],
   "source": [
    "titles=[]\n",
    "txts=[]\n",
    "auths=[]\n",
    "added=[]\n",
    "edition=[]\n",
    "tags=[]\n",
    "\n",
    "for link in artLinks[:3]:\n",
    "    d.get(link)\n",
    "    try:\n",
    "        titles.append(d.find_element(By.XPATH, '//div[@class=\"cf txt \"]/h1').text)\n",
    "    except:\n",
    "        titles.append(np.nan)\n",
    "    try:\n",
    "        txts.append(d.find_element(By.XPATH, '//div[@class=\"txt__content\"]').text)\n",
    "    except:\n",
    "        txts.append(np.nan)\n",
    "    try:\n",
    "        auths.append(d.find_element(By.XPATH, '//p[@class=\"l doc-author\"]').text)\n",
    "    except:\n",
    "        auths.append(np.nan)\n",
    "    try:\n",
    "        added.append(d.find_element(By.XPATH, '//span[@class=\"txt__doc-date\"]').text)\n",
    "    except:\n",
    "        added.append(np.nan)\n",
    "    try:\n",
    "        edition.append(d.find_element(By.XPATH, '//span[@class=\"s\"]').text)\n",
    "    except:\n",
    "        edition.append(np.nan)\n",
    "    try:\n",
    "        tags.append(d.find_element(By.XPATH, '//div[@class=\"tags\"]').text)\n",
    "    except:\n",
    "        tags.append(np.nan)\n",
    "    \n",
    "    sleep(2)"
   ]
  },
  {
   "cell_type": "code",
   "execution_count": 52,
   "id": "361c6695",
   "metadata": {},
   "outputs": [
    {
     "data": {
      "text/plain": [
       "['', 'TAGI:\\nkatolicy raporty usa wyznania', '']"
      ]
     },
     "execution_count": 52,
     "metadata": {},
     "output_type": "execute_result"
    }
   ],
   "source": [
    "tags"
   ]
  },
  {
   "cell_type": "code",
   "execution_count": null,
   "id": "894bdf00",
   "metadata": {},
   "outputs": [],
   "source": []
  }
 ],
 "metadata": {
  "kernelspec": {
   "display_name": "Python 3",
   "language": "python",
   "name": "python3"
  },
  "language_info": {
   "codemirror_mode": {
    "name": "ipython",
    "version": 3
   },
   "file_extension": ".py",
   "mimetype": "text/x-python",
   "name": "python",
   "nbconvert_exporter": "python",
   "pygments_lexer": "ipython3",
   "version": "3.7.15"
  }
 },
 "nbformat": 4,
 "nbformat_minor": 5
}
